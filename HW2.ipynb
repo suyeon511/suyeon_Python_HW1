{
 "cells": [
  {
   "cell_type": "markdown",
   "id": "2eae8241",
   "metadata": {},
   "source": [
    "### 단순연결리스트 응용예제 02"
   ]
  },
  {
   "cell_type": "code",
   "execution_count": 4,
   "id": "873e9d47",
   "metadata": {},
   "outputs": [
    {
     "name": "stdout",
     "output_type": "stream",
     "text": [
      "<bound method Random.sample of <random.Random object at 0x0000018D40C0CFB0>> \n"
     ]
    }
   ],
   "source": [
    "#random 함수 호출\n",
    "import random\n",
    "random.randint(1,45)\n",
    "\n",
    "##클래스, 함수 선언\n",
    "class Node():  #클래스 선언\n",
    "    def __init__ (self):\n",
    "        self.data=None\n",
    "        self.link=None\n",
    "        \n",
    "def printNodes(start):  #함수 선언\n",
    "    current = start  #현재 진행중인 노드 = start\n",
    "    if current == None:  #current 값이 None, 값 return\n",
    "        return\n",
    "    print(current.data, end=' ')  #아니면, print(값)\n",
    "    \n",
    "    while current.link != None:  #current와 연결된 값이 없을때까지 연결\n",
    "        current = current.link\n",
    "        print(current.data, end=' ')\n",
    "    print()\n",
    "    \n",
    "    \n",
    "##전역 변수 선언\n",
    "\n",
    "memory=[]  #리스트 선언\n",
    "head, current, pre = None, None, None  #리스트 값 초기화\n",
    "\n",
    "number=list(range(1,45))\n",
    "random.sample(number, 6)\n",
    "\n",
    "#dataArray=[\"다현\", \"정연\", \"쯔위\", \"사나\", \"지효\"]  #데이터 값 나열  \n",
    "\n",
    "##메인 코드\n",
    "\n",
    "if __name__ == \"__main__\":\n",
    "    \n",
    "    node=Node() #node = 노드임을 정의\n",
    "    node.data=random.sample #node의 데이터는 dataArray 첫번째 값 = 다현\n",
    "    head=node #head(=리스트의 첫번째 노드) = 다현\n",
    "    memory.append(node) #memory 리스트 마지막에 node 추가\n",
    "\n",
    "    printNodes(head)"
   ]
  },
  {
   "cell_type": "markdown",
   "id": "9dbaa239",
   "metadata": {},
   "source": [
    "### 원형연결리스트 응용예제 01"
   ]
  },
  {
   "cell_type": "code",
   "execution_count": 5,
   "id": "4bb7a56b",
   "metadata": {},
   "outputs": [],
   "source": [
    "#random 함수 호출\n",
    "import random\n",
    "\n",
    "x=random.randint(1,100)\n",
    "y=random.randint(1,100)\n",
    "\n",
    "##클래스, 함수 선언\n",
    "class Node():  #클래스 선언\n",
    "    def __init__ (self):\n",
    "        self.data=None\n",
    "        self.link=None\n",
    "        \n",
    "def printNodes(start):  #함수 선언\n",
    "    current = start  #현재 진행중인 노드 = start\n",
    "    if current.link == None:  #current 값이 None, 값 return\n",
    "        return\n",
    "    \n",
    "    print(current.data, end=' ')  #아니면, print(값)\n",
    "    \n",
    "    while current.link != start:  #current와 연결된 값이 없을때까지 연결\n",
    "        current = current.link\n",
    "        print(current.data, end=' ')\n",
    "    print()\n",
    "    \n",
    "    \n",
    "##전역 변수 선언\n",
    "\n",
    "memory=[]  #리스트 선언\n",
    "head, current, pre = None, None, None  #리스트 값 초기화\n",
    "\n",
    "number=list(range(1,45))\n",
    "random.sample(number, 6)\n",
    "\n",
    "store=[\"A\", \"B\", \"C\", \"D\", \"E\", \"F\", \"G\", \"H\", \"I\", \"J\"]\n",
    "\n",
    "##메인 코드\n",
    "\n",
    "if __name__ == \"__main__\":\n",
    "    \n",
    "    node=Node() #node = 노드임을 정의\n",
    "    node.data=random.sample \n",
    "    head=node #head(=리스트의 첫번째 노드) = 다현\n",
    "    memory.append(node) #memory 리스트 마지막에 node 추가\n",
    "\n",
    "    printNodes(head)"
   ]
  },
  {
   "cell_type": "markdown",
   "id": "c4399054",
   "metadata": {},
   "source": [
    "### 스택 응용예제 02"
   ]
  },
  {
   "cell_type": "code",
   "execution_count": 6,
   "id": "f3cb67ef",
   "metadata": {},
   "outputs": [
    {
     "name": "stdout",
     "output_type": "stream",
     "text": [
      "---원본---\n",
      "진달래꽃\n",
      "나 보기가 역겨워\n",
      "가실 때에는\n",
      "말없이 고이 보내드리오리다.\n",
      "---거꾸로 처리된 결과---\n",
      ".다리오리드내보 이고 이없말\n",
      "는에때 실가\n",
      "워겨역 가기보 나\n",
      "꽃래달진"
     ]
    }
   ],
   "source": [
    "class Stack:\n",
    "    def __init__(self):\n",
    "        self.top=[]\n",
    "    def isEmpty(self): return len(self.top)==0\n",
    "    def size(self): return len(self.top)\n",
    "    def claer(self): self.top=[]\n",
    "    \n",
    "    def push(self,item):\n",
    "        self.top.append(item)\n",
    "        \n",
    "    def pop(self):\n",
    "        if not self.isEmpty():\n",
    "            return self.top.pop(-1)\n",
    "    \n",
    "    def peek(self):\n",
    "        if not self.isEmpty():\n",
    "            return self.top[-1]\n",
    "        \n",
    "    def __str__(self):\n",
    "        return str(self.top[::-1])\n",
    "    \n",
    "StackA=Stack()\n",
    "string = str('진달래꽃\\n나 보기가 역겨워\\n가실 때에는\\n말없이 고이 보내드리오리다.')\n",
    "lenstring = len(string)\n",
    "print(\"---원본---\")\n",
    "print(string)\n",
    "\n",
    "for i in range(0,lenstring):\n",
    "    StackA.push(string[i])\n",
    "    \n",
    "print(\"---거꾸로 처리된 결과---\")\n",
    "for i in range(0,lenstring):\n",
    "    print(StackA.pop(), end='')"
   ]
  },
  {
   "cell_type": "markdown",
   "id": "29778f43",
   "metadata": {},
   "source": [
    "### 큐 응용예제 02"
   ]
  },
  {
   "cell_type": "code",
   "execution_count": 8,
   "id": "e9b14d5c",
   "metadata": {},
   "outputs": [
    {
     "name": "stdout",
     "output_type": "stream",
     "text": [
      "귀하의 대기 시간은 0분입니다\n",
      "현재 대기 콜 ->  [None, None, None, None, None, None] \n",
      "\n",
      "귀하의 대기 시간은 9분입니다\n",
      "현재 대기 콜 ->  [None, ('사용', 9), None, None, None, None] \n",
      "\n",
      "귀하의 대기 시간은 12분입니다\n",
      "현재 대기 콜 ->  [None, ('사용', 9), ('고장', 3), None, None, None] \n",
      "\n",
      "귀하의 대기 시간은 16분입니다\n",
      "현재 대기 콜 ->  [None, ('사용', 9), ('고장', 3), ('환불', 4), None, None] \n",
      "\n",
      "귀하의 대기 시간은 20분입니다\n",
      "현재 대기 콜 ->  [None, ('사용', 9), ('고장', 3), ('환불', 4), ('환불', 4), None] \n",
      "\n",
      "최종 대기 콜 ->  [None, ('사용', 9), ('고장', 3), ('환불', 4), ('환불', 4), ('고장', 3)] \n",
      "프로그램 종료!\n"
     ]
    }
   ],
   "source": [
    "##원형 큐\n",
    "\n",
    "#함수 선언\n",
    "    \n",
    "def enQueue(data):\n",
    "    global SIZE, queue, front, rear\n",
    "    if (isQueueFull()):\n",
    "        print(\"큐가 꽉 참\")\n",
    "        return\n",
    "    rear = (rear+1) % SIZE\n",
    "    queue[rear]=data\n",
    "\n",
    "#########\n",
    "\n",
    "SIZE = 6\n",
    "queue=[None, None, None, None, None, None]\n",
    "front=-1\n",
    "rear=0\n",
    "\n",
    "print(\"귀하의 대기 시간은 0분입니다\")\n",
    "print(\"현재 대기 콜 -> \", queue, \"\\n\")\n",
    "\n",
    "enQueue(('사용',9))\n",
    "print(\"귀하의 대기 시간은 9분입니다\")\n",
    "print(\"현재 대기 콜 -> \", queue, \"\\n\")\n",
    "\n",
    "enQueue(('고장',3))\n",
    "print(\"귀하의 대기 시간은 12분입니다\")\n",
    "print(\"현재 대기 콜 -> \", queue, \"\\n\")\n",
    "\n",
    "enQueue(('환불',4))\n",
    "print(\"귀하의 대기 시간은 16분입니다\")\n",
    "print(\"현재 대기 콜 -> \", queue, \"\\n\")\n",
    "\n",
    "enQueue(('환불',4))\n",
    "print(\"귀하의 대기 시간은 20분입니다\")\n",
    "print(\"현재 대기 콜 -> \", queue, \"\\n\")\n",
    "\n",
    "enQueue(('고장',3))\n",
    "print(\"최종 대기 콜 -> \", queue, \"\\n프로그램 종료!\")"
   ]
  },
  {
   "cell_type": "code",
   "execution_count": null,
   "id": "c3783be1",
   "metadata": {},
   "outputs": [],
   "source": []
  }
 ],
 "metadata": {
  "kernelspec": {
   "display_name": "Python 3 (ipykernel)",
   "language": "python",
   "name": "python3"
  },
  "language_info": {
   "codemirror_mode": {
    "name": "ipython",
    "version": 3
   },
   "file_extension": ".py",
   "mimetype": "text/x-python",
   "name": "python",
   "nbconvert_exporter": "python",
   "pygments_lexer": "ipython3",
   "version": "3.8.5"
  },
  "vp": {
   "base_numbering": 1,
   "nav_menu": {},
   "number_sections": true,
   "sideBar": true,
   "title_cell": "VisualPython",
   "title_sidebar": "VisualPython",
   "vpPosition": {
    "height": "calc(100% - 180px)",
    "right": "10px",
    "top": "110px",
    "width": "50%"
   },
   "vp_cell": false,
   "vp_section_display": true,
   "vp_window_display": false
  }
 },
 "nbformat": 4,
 "nbformat_minor": 5
}
